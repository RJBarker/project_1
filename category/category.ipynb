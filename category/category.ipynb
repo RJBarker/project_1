{
 "cells": [
  {
   "cell_type": "code",
   "execution_count": 25,
   "id": "c0d44223",
   "metadata": {},
   "outputs": [
    {
     "data": {
      "text/html": [
       "<div>\n",
       "<style scoped>\n",
       "    .dataframe tbody tr th:only-of-type {\n",
       "        vertical-align: middle;\n",
       "    }\n",
       "\n",
       "    .dataframe tbody tr th {\n",
       "        vertical-align: top;\n",
       "    }\n",
       "\n",
       "    .dataframe thead th {\n",
       "        text-align: right;\n",
       "    }\n",
       "</style>\n",
       "<table border=\"1\" class=\"dataframe\">\n",
       "  <thead>\n",
       "    <tr style=\"text-align: right;\">\n",
       "      <th></th>\n",
       "      <th>rank</th>\n",
       "      <th>Youtuber</th>\n",
       "      <th>subscribers</th>\n",
       "      <th>video views</th>\n",
       "      <th>category</th>\n",
       "      <th>Title</th>\n",
       "      <th>uploads</th>\n",
       "      <th>Country</th>\n",
       "      <th>country_rank</th>\n",
       "      <th>lowest_yearly_earnings</th>\n",
       "      <th>highest_yearly_earnings</th>\n",
       "      <th>created_year</th>\n",
       "      <th>created_month</th>\n",
       "      <th>Gross tertiary education enrollment (%)</th>\n",
       "      <th>Population</th>\n",
       "      <th>Unemployment rate</th>\n",
       "      <th>Latitude</th>\n",
       "      <th>Longitude</th>\n",
       "    </tr>\n",
       "  </thead>\n",
       "  <tbody>\n",
       "    <tr>\n",
       "      <th>0</th>\n",
       "      <td>1</td>\n",
       "      <td>T-Series</td>\n",
       "      <td>245000000</td>\n",
       "      <td>228000000000</td>\n",
       "      <td>Music</td>\n",
       "      <td>T-Series</td>\n",
       "      <td>20082</td>\n",
       "      <td>India</td>\n",
       "      <td>1</td>\n",
       "      <td>6800000</td>\n",
       "      <td>108400000</td>\n",
       "      <td>2006</td>\n",
       "      <td>Mar</td>\n",
       "      <td>28.1</td>\n",
       "      <td>1366417754</td>\n",
       "      <td>5.36</td>\n",
       "      <td>20.593684</td>\n",
       "      <td>78.962880</td>\n",
       "    </tr>\n",
       "    <tr>\n",
       "      <th>1</th>\n",
       "      <td>2</td>\n",
       "      <td>YouTube Movies</td>\n",
       "      <td>170000000</td>\n",
       "      <td>0</td>\n",
       "      <td>Film &amp; Animation</td>\n",
       "      <td>youtubemovies</td>\n",
       "      <td>1</td>\n",
       "      <td>United States</td>\n",
       "      <td>7670</td>\n",
       "      <td>0</td>\n",
       "      <td>0</td>\n",
       "      <td>2006</td>\n",
       "      <td>Mar</td>\n",
       "      <td>88.2</td>\n",
       "      <td>328239523</td>\n",
       "      <td>14.70</td>\n",
       "      <td>37.090240</td>\n",
       "      <td>-95.712891</td>\n",
       "    </tr>\n",
       "    <tr>\n",
       "      <th>2</th>\n",
       "      <td>3</td>\n",
       "      <td>MrBeast</td>\n",
       "      <td>166000000</td>\n",
       "      <td>28368841870</td>\n",
       "      <td>Entertainment</td>\n",
       "      <td>MrBeast</td>\n",
       "      <td>741</td>\n",
       "      <td>United States</td>\n",
       "      <td>1</td>\n",
       "      <td>4000000</td>\n",
       "      <td>64700000</td>\n",
       "      <td>2012</td>\n",
       "      <td>Feb</td>\n",
       "      <td>88.2</td>\n",
       "      <td>328239523</td>\n",
       "      <td>14.70</td>\n",
       "      <td>37.090240</td>\n",
       "      <td>-95.712891</td>\n",
       "    </tr>\n",
       "    <tr>\n",
       "      <th>3</th>\n",
       "      <td>4</td>\n",
       "      <td>Cocomelon - Nursery Rhymes</td>\n",
       "      <td>162000000</td>\n",
       "      <td>164000000000</td>\n",
       "      <td>Education</td>\n",
       "      <td>Cocomelon - Nursery Rhymes</td>\n",
       "      <td>966</td>\n",
       "      <td>United States</td>\n",
       "      <td>2</td>\n",
       "      <td>5900000</td>\n",
       "      <td>94800000</td>\n",
       "      <td>2006</td>\n",
       "      <td>Sep</td>\n",
       "      <td>88.2</td>\n",
       "      <td>328239523</td>\n",
       "      <td>14.70</td>\n",
       "      <td>37.090240</td>\n",
       "      <td>-95.712891</td>\n",
       "    </tr>\n",
       "    <tr>\n",
       "      <th>4</th>\n",
       "      <td>5</td>\n",
       "      <td>SET India</td>\n",
       "      <td>159000000</td>\n",
       "      <td>148000000000</td>\n",
       "      <td>Shows</td>\n",
       "      <td>SET India</td>\n",
       "      <td>116536</td>\n",
       "      <td>India</td>\n",
       "      <td>2</td>\n",
       "      <td>5500000</td>\n",
       "      <td>87500000</td>\n",
       "      <td>2006</td>\n",
       "      <td>Sep</td>\n",
       "      <td>28.1</td>\n",
       "      <td>1366417754</td>\n",
       "      <td>5.36</td>\n",
       "      <td>20.593684</td>\n",
       "      <td>78.962880</td>\n",
       "    </tr>\n",
       "  </tbody>\n",
       "</table>\n",
       "</div>"
      ],
      "text/plain": [
       "   rank                    Youtuber  subscribers   video views  \\\n",
       "0     1                    T-Series    245000000  228000000000   \n",
       "1     2              YouTube Movies    170000000             0   \n",
       "2     3                     MrBeast    166000000   28368841870   \n",
       "3     4  Cocomelon - Nursery Rhymes    162000000  164000000000   \n",
       "4     5                   SET India    159000000  148000000000   \n",
       "\n",
       "           category                       Title  uploads        Country  \\\n",
       "0             Music                    T-Series    20082          India   \n",
       "1  Film & Animation               youtubemovies        1  United States   \n",
       "2     Entertainment                     MrBeast      741  United States   \n",
       "3         Education  Cocomelon - Nursery Rhymes      966  United States   \n",
       "4             Shows                   SET India   116536          India   \n",
       "\n",
       "   country_rank  lowest_yearly_earnings  highest_yearly_earnings  \\\n",
       "0             1                 6800000                108400000   \n",
       "1          7670                       0                        0   \n",
       "2             1                 4000000                 64700000   \n",
       "3             2                 5900000                 94800000   \n",
       "4             2                 5500000                 87500000   \n",
       "\n",
       "   created_year created_month  Gross tertiary education enrollment (%)  \\\n",
       "0          2006           Mar                                     28.1   \n",
       "1          2006           Mar                                     88.2   \n",
       "2          2012           Feb                                     88.2   \n",
       "3          2006           Sep                                     88.2   \n",
       "4          2006           Sep                                     28.1   \n",
       "\n",
       "   Population  Unemployment rate   Latitude  Longitude  \n",
       "0  1366417754               5.36  20.593684  78.962880  \n",
       "1   328239523              14.70  37.090240 -95.712891  \n",
       "2   328239523              14.70  37.090240 -95.712891  \n",
       "3   328239523              14.70  37.090240 -95.712891  \n",
       "4  1366417754               5.36  20.593684  78.962880  "
      ]
     },
     "execution_count": 25,
     "metadata": {},
     "output_type": "execute_result"
    }
   ],
   "source": [
    "# import dependencies\n",
    "import pandas as pd\n",
    "import matplotlib.pyplot as plt\n",
    "import numpy as np\n",
    "import scipy.stats as st\n",
    "from scipy.stats import linregress\n",
    "\n",
    "# Get cleaned data CSV\n",
    "youtube_df = pd.read_csv(\"../Cleaned_Data/cleaned_youtube_data.csv\", encoding=\"iso-8859-1\")\n",
    "\n",
    "# Preview data\n",
    "youtube_df.head()"
   ]
  },
  {
   "cell_type": "code",
   "execution_count": 26,
   "id": "0c3baea3",
   "metadata": {},
   "outputs": [
    {
     "data": {
      "text/plain": [
       "18"
      ]
     },
     "execution_count": 26,
     "metadata": {},
     "output_type": "execute_result"
    }
   ],
   "source": [
    "len(youtube_df[\"category\"].unique())"
   ]
  },
  {
   "cell_type": "code",
   "execution_count": 27,
   "id": "32c3d829",
   "metadata": {},
   "outputs": [
    {
     "name": "stdout",
     "output_type": "stream",
     "text": [
      "The most popular category as a whole is: category\n",
      "Autos & Vehicles           2\n",
      "Comedy                    65\n",
      "Education                 42\n",
      "Entertainment            211\n",
      "Film & Animation          36\n",
      "Gaming                    80\n",
      "Howto & Style             32\n",
      "Movies                     2\n",
      "Music                    180\n",
      "News & Politics           25\n",
      "Nonprofits & Activism      2\n",
      "People & Blogs           102\n",
      "Pets & Animals             3\n",
      "Science & Technology      14\n",
      "Shows                     12\n",
      "Sports                    11\n",
      "Trailers                   2\n",
      "Travel & Events            1\n",
      "dtype: int64\n"
     ]
    }
   ],
   "source": [
    "# Which category is the most popular as a whole, and in each country?\n",
    "\n",
    "most_popular_category = youtube_df.groupby(\"category\").size()\n",
    "most_popular_category\n",
    "\n",
    "print(f\"The most popular category as a whole is: {most_popular_category}\")\n"
   ]
  },
  {
   "cell_type": "code",
   "execution_count": 28,
   "id": "f827557d",
   "metadata": {},
   "outputs": [
    {
     "data": {
      "text/plain": [
       "Country        category        \n",
       "Afghanistan    Music               1\n",
       "Argentina      Comedy              3\n",
       "               Education           1\n",
       "               Entertainment       3\n",
       "               Film & Animation    1\n",
       "                                  ..\n",
       "United States  Sports              5\n",
       "Venezuela      People & Blogs      1\n",
       "Vietnam        Comedy              1\n",
       "               Entertainment       1\n",
       "               Music               1\n",
       "Length: 174, dtype: int64"
      ]
     },
     "execution_count": 28,
     "metadata": {},
     "output_type": "execute_result"
    }
   ],
   "source": [
    "most_popular_country = youtube_df.groupby([\"Country\", \"category\"]).size()\n",
    "most_popular_country"
   ]
  },
  {
   "cell_type": "code",
   "execution_count": 29,
   "id": "b7eb8e9b",
   "metadata": {},
   "outputs": [
    {
     "data": {
      "image/png": "[encoded data removed]",
      "text/plain": [
       "<Figure size 640x480 with 1 Axes>"
      ]
     },
     "metadata": {},
     "output_type": "display_data"
    }
   ],
   "source": [
    "# Chart by Category\n",
    "import matplotlib.pyplot as plt\n",
    "import numpy as np\n",
    "#y = np.array(\"category\")\n",
    "y = np.array([10, 15, 25, 40])\n",
    "plt.pie(y)\n",
    "plt.show()"
   ]
  },
  {
   "cell_type": "code",
   "execution_count": null,
   "id": "858ff2ed",
   "metadata": {},
   "outputs": [],
   "source": []
  }
 ],
 "metadata": {
  "kernelspec": {
   "display_name": "Python 3 (ipykernel)",
   "language": "python",
   "name": "python3"
  },
  "language_info": {
   "codemirror_mode": {
    "name": "ipython",
    "version": 3
   },
   "file_extension": ".py",
   "mimetype": "text/x-python",
   "name": "python",
   "nbconvert_exporter": "python",
   "pygments_lexer": "ipython3",
   "version": "3.11.4"
  }
 },
 "nbformat": 4,
 "nbformat_minor": 5
}
